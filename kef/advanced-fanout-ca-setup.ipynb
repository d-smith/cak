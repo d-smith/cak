{
 "cells": [
  {
   "cell_type": "markdown",
   "id": "54068eeb",
   "metadata": {},
   "source": [
    "## 1. Source Account Stream"
   ]
  },
  {
   "cell_type": "code",
   "execution_count": null,
   "id": "398cfd6a",
   "metadata": {},
   "outputs": [],
   "source": [
    "import boto3\n",
    "\n",
    "source_session = boto3.Session(profile_name='pa')\n",
    "\n",
    "source_kda_client = source_session.client('kinesisanalyticsv2')\n",
    "source_kinesis = source_session.client('kinesis')\n",
    "source_iam = source_session.client('iam')"
   ]
  },
  {
   "cell_type": "code",
   "execution_count": null,
   "id": "9a003726",
   "metadata": {},
   "outputs": [],
   "source": [
    "cis = source_kinesis.create_stream(\n",
    "    StreamName='ExampleInputStream',\n",
    "    ShardCount=1\n",
    ")\n",
    "\n",
    "print(cis)"
   ]
  },
  {
   "cell_type": "code",
   "execution_count": null,
   "id": "ac1a49e3",
   "metadata": {},
   "outputs": [],
   "source": [
    "import os\n",
    "source_account = os.environ['PRODUCER_ACCOUNT_NO']"
   ]
  },
  {
   "cell_type": "code",
   "execution_count": null,
   "id": "3c8d13e6",
   "metadata": {},
   "outputs": [],
   "source": [
    "rsc = source_kinesis.register_stream_consumer(\n",
    "    StreamARN=\"arn:aws:kinesis:us-east-1:\" + source_account + \":stream/ExampleInputStream\",\n",
    "    ConsumerName='samplecon'\n",
    ")\n",
    "print(rsc)"
   ]
  },
  {
   "cell_type": "code",
   "execution_count": null,
   "id": "df394660",
   "metadata": {},
   "outputs": [],
   "source": [
    "fanout_stream_arn = rsc['Consumer']['ConsumerARN']\n",
    "print(fanout_stream_arn)"
   ]
  },
  {
   "cell_type": "markdown",
   "id": "0ee5d28d",
   "metadata": {},
   "source": [
    "## Source Account Permissions"
   ]
  },
  {
   "cell_type": "code",
   "execution_count": null,
   "id": "015e9508",
   "metadata": {},
   "outputs": [],
   "source": [
    "import os\n",
    "source_account = os.environ['PRODUCER_ACCOUNT_NO']\n",
    "sink_account = os.environ['CONSUMER_ACCOUNT_NO']"
   ]
  },
  {
   "cell_type": "code",
   "execution_count": null,
   "id": "fc00de3e",
   "metadata": {},
   "outputs": [],
   "source": [
    "input_stream_reader_trust_relationship=\"\"\"{\n",
    "    \"Version\": \"2012-10-17\",\n",
    "    \"Statement\": [\n",
    "      {\n",
    "        \"Effect\": \"Allow\",\n",
    "        \"Principal\": {\n",
    "          \"AWS\":  \"arn:aws:iam::\"\"\" + sink_account + \"\"\":user/ca\"\n",
    "        },\n",
    "        \"Action\": \"sts:AssumeRole\"\n",
    "      }\n",
    "    ]\n",
    "}\"\"\""
   ]
  },
  {
   "cell_type": "code",
   "execution_count": null,
   "id": "8599f8e7",
   "metadata": {},
   "outputs": [],
   "source": [
    "stream_arn = \"arn:aws:kinesis:us-east-1:\" + source_account + \":stream/ExampleInputStream\"\n",
    "print(stream_arn)"
   ]
  },
  {
   "cell_type": "code",
   "execution_count": null,
   "id": "e88539bb",
   "metadata": {},
   "outputs": [],
   "source": [
    "input_stream_reader_policy=\"\"\"{\n",
    "    \"Version\": \"2012-10-17\",\n",
    "    \"Statement\": [\n",
    "        {\n",
    "            \"Sid\": \"ReadInputStream\",\n",
    "            \"Effect\": \"Allow\",\n",
    "            \"Action\": [\n",
    "                \"kinesis:DescribeStream\",\n",
    "                \"kinesis:DescribeStreamSummary\",\n",
    "                \"kinesis:GetRecords\",\n",
    "                \"kinesis:GetShardIterator\",\n",
    "                \"kinesis:ListShards\"\n",
    "            ],\n",
    "            \"Resource\": \"\"\" + '\"' + stream_arn + '\"'+ \"\"\"\n",
    "        },\n",
    "        {\n",
    "            \"Effect\": \"Allow\",\n",
    "            \"Action\": [\n",
    "                \"kinesis:DescribeStreamConsumer\",\n",
    "                \"kinesis:SubscribeToShard\"\n",
    "            ],\n",
    "            \"Resource\": [\n",
    "                \"\"\" + '\"' + stream_arn + '/consumer/samplecon\",'+ \"\"\"\n",
    "                \"\"\" + '\"' + stream_arn + '/consumer/samplecon:*\"'+ \"\"\"\n",
    "            ]   \n",
    "        }\n",
    "    ]\n",
    "}\"\"\"\n",
    "\n",
    "print(input_stream_reader_policy)"
   ]
  },
  {
   "cell_type": "code",
   "execution_count": null,
   "id": "644ca948",
   "metadata": {},
   "outputs": [],
   "source": [
    "cr = source_iam.create_role(\n",
    "    RoleName='KA-Source-Stream-Role',\n",
    "    Path='/service-role/',\n",
    "    AssumeRolePolicyDocument=input_stream_reader_trust_relationship\n",
    ")\n",
    "\n",
    "print(cr)"
   ]
  },
  {
   "cell_type": "code",
   "execution_count": null,
   "id": "96fed976",
   "metadata": {},
   "outputs": [],
   "source": [
    "cp = source_iam.create_policy(\n",
    "    PolicyName='kda-stream-reader',\n",
    "    Path='/service-role/',\n",
    "    PolicyDocument=input_stream_reader_policy\n",
    ")\n",
    "\n",
    "print(cp)"
   ]
  },
  {
   "cell_type": "code",
   "execution_count": null,
   "id": "27c3ffff",
   "metadata": {},
   "outputs": [],
   "source": [
    "ap = source_iam.attach_role_policy(\n",
    "    RoleName='KA-Source-Stream-Role',\n",
    "    PolicyArn=\"arn:aws:iam::{}:policy/service-role/kda-stream-reader\".format(source_account)\n",
    ")"
   ]
  },
  {
   "cell_type": "markdown",
   "id": "e15d7bc7",
   "metadata": {},
   "source": [
    "## Write to Stream"
   ]
  },
  {
   "cell_type": "code",
   "execution_count": null,
   "id": "bd2a17ca",
   "metadata": {},
   "outputs": [],
   "source": [
    "import datetime\n",
    "import json\n",
    "import random\n",
    "import boto3\n",
    "import uuid\n",
    "import time\n",
    "\n",
    "def get_data():\n",
    "    return {\n",
    "        'things': [{'a':1},{'b':2}],\n",
    "        'stuff':{'key':{'foo': True, 'bar': False}},\n",
    "        'EVENT_TIME': datetime.datetime.now().isoformat(),\n",
    "        'TICKER': random.choice(['AAPL', 'AMZN', 'MSFT', 'INTC', 'TBV']),\n",
    "        'PRICE': round(random.random() * 100, 2)}\n",
    "\n",
    "def get_cloud_event():\n",
    "    return {\n",
    "        \"specversion\" : \"1.0\",\n",
    "        \"type\" : \"tick\",\n",
    "        \"source\" : \"sample-stream\",\n",
    "        \"subject\" : \"delayed-data\",\n",
    "        \"id\" : str(uuid.uuid4()),\n",
    "        \"time\" : datetime.datetime.now().isoformat(),\n",
    "        \"datacontenttype\" : \"application/json\",\n",
    "        \"data\" : get_data()\n",
    "    }\n",
    "\n",
    "\n",
    "def generate(stream_name, kinesis_client):\n",
    "    while True:\n",
    "        data = get_cloud_event()\n",
    "        print(data)\n",
    "        kinesis_client.put_record(\n",
    "            StreamName=stream_name,\n",
    "            Data=json.dumps(data),\n",
    "            PartitionKey=\"partitionkey\")\n",
    "        time.sleep(1)"
   ]
  },
  {
   "cell_type": "code",
   "execution_count": null,
   "id": "6860081e",
   "metadata": {},
   "outputs": [],
   "source": [
    "# Run it\n",
    "generate(\"ExampleInputStream\", source_kinesis)"
   ]
  },
  {
   "cell_type": "markdown",
   "id": "2327b508",
   "metadata": {},
   "source": [
    "## Clean Up\n",
    "\n",
    "### IAM"
   ]
  },
  {
   "cell_type": "code",
   "execution_count": null,
   "id": "ee1b14f9",
   "metadata": {},
   "outputs": [],
   "source": [
    "source_iam.detach_role_policy(\n",
    "    RoleName='KA-Source-Stream-Role',\n",
    "    PolicyArn=\"arn:aws:iam::{}:policy/service-role/kda-stream-reader\".format(source_account)\n",
    ")"
   ]
  },
  {
   "cell_type": "code",
   "execution_count": null,
   "id": "574920f6",
   "metadata": {},
   "outputs": [],
   "source": [
    "source_iam.delete_policy(\n",
    "    PolicyArn=\"arn:aws:iam::{}:policy/service-role/kda-stream-reader\".format(source_account)\n",
    ")"
   ]
  },
  {
   "cell_type": "code",
   "execution_count": null,
   "id": "5064096b",
   "metadata": {},
   "outputs": [],
   "source": [
    "source_iam.delete_role(\n",
    "    RoleName='KA-Source-Stream-Role'\n",
    ")"
   ]
  },
  {
   "cell_type": "markdown",
   "id": "908fad21",
   "metadata": {},
   "source": [
    "### Consumer App"
   ]
  },
  {
   "cell_type": "code",
   "execution_count": null,
   "id": "ecd57978",
   "metadata": {},
   "outputs": [],
   "source": [
    "lsc = source_kinesis.list_stream_consumers(\n",
    "    StreamARN=stream_arn\n",
    ")\n",
    "print(lsc)\n",
    "\n",
    "consumers = lsc['Consumers']\n",
    "print(consumers)\n",
    "\n",
    "for c in consumers:\n",
    "    print(c)\n",
    "    dsc = source_kinesis.deregister_stream_consumer(\n",
    "        StreamARN=stream_arn,\n",
    "        ConsumerARN=c['ConsumerARN']\n",
    "    )\n",
    "    print(dsc)"
   ]
  },
  {
   "cell_type": "markdown",
   "id": "85490c66",
   "metadata": {},
   "source": [
    "### DDB Shard Lease Tables"
   ]
  },
  {
   "cell_type": "code",
   "execution_count": null,
   "id": "dba71305",
   "metadata": {},
   "outputs": [],
   "source": [
    "import boto3\n",
    "\n",
    "sink_session = boto3.Session(profile_name='ca')\n",
    "sink_ddb_client = sink_session.client('dynamodb')"
   ]
  },
  {
   "cell_type": "code",
   "execution_count": null,
   "id": "bf361b5b",
   "metadata": {},
   "outputs": [],
   "source": [
    "sink_ddb_client.list_tables()"
   ]
  },
  {
   "cell_type": "code",
   "execution_count": null,
   "id": "11134281",
   "metadata": {},
   "outputs": [],
   "source": [
    "sink_ddb_client.delete_table(\n",
    "    TableName='samplecon'\n",
    ")"
   ]
  },
  {
   "cell_type": "code",
   "execution_count": null,
   "id": "dd076224",
   "metadata": {},
   "outputs": [],
   "source": [
    "# Check the producer account in case you were messing around in there...\n",
    "source_ddb_client = source_session.client('dynamodb')"
   ]
  },
  {
   "cell_type": "code",
   "execution_count": null,
   "id": "8223b885",
   "metadata": {},
   "outputs": [],
   "source": [
    "sink_ddb_client.list_tables()"
   ]
  },
  {
   "cell_type": "markdown",
   "id": "2f120951",
   "metadata": {},
   "source": [
    "### Kinesis"
   ]
  },
  {
   "cell_type": "code",
   "execution_count": null,
   "id": "5a17696e",
   "metadata": {},
   "outputs": [],
   "source": [
    "source_kinesis.delete_stream(\n",
    "    StreamName='ExampleInputStream'\n",
    ")"
   ]
  },
  {
   "cell_type": "code",
   "execution_count": null,
   "id": "66efaa90",
   "metadata": {},
   "outputs": [],
   "source": []
  }
 ],
 "metadata": {
  "kernelspec": {
   "display_name": "Python 3",
   "language": "python",
   "name": "python3"
  },
  "language_info": {
   "codemirror_mode": {
    "name": "ipython",
    "version": 3
   },
   "file_extension": ".py",
   "mimetype": "text/x-python",
   "name": "python",
   "nbconvert_exporter": "python",
   "pygments_lexer": "ipython3",
   "version": "3.9.1"
  }
 },
 "nbformat": 4,
 "nbformat_minor": 5
}
