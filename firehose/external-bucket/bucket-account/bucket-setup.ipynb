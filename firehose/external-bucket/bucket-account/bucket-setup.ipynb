{
 "cells": [
  {
   "cell_type": "code",
   "execution_count": null,
   "id": "8e5fe7e1",
   "metadata": {},
   "outputs": [],
   "source": [
    "sink_session = boto3.Session(profile_name='ca')\n",
    "\n",
    "sink_s3 = sink_session.client('s3')\n",
    "sink_iam = sink_session.client('iam')\n"
   ]
  },
  {
   "cell_type": "code",
   "execution_count": null,
   "id": "26f3f23c",
   "metadata": {},
   "outputs": [],
   "source": [
    "# Create the bucket\n",
    "cb = sink_s3.create_bucket(\n",
    "    Bucket='sink-acount-bucket'\n",
    ")\n",
    "\n",
    "print(cb)"
   ]
  },
  {
   "cell_type": "code",
   "execution_count": null,
   "id": "9dbb1fcc",
   "metadata": {},
   "outputs": [],
   "source": [
    "import os\n",
    "source_account = os.environ['PRODUCER_ACCOUNT_NO']"
   ]
  },
  {
   "cell_type": "code",
   "execution_count": null,
   "id": "365167a6",
   "metadata": {},
   "outputs": [],
   "source": [
    "# After the role in the source account is created (or maybe before, \n",
    "# didn't try it that way) create a bucket policy to grant access from\n",
    "# the source account\n",
    "                    \n",
    "                    \n",
    "delivery_role = \"arn:aws:iam::{}:role/cakhose2-dev-firehose-delivery-role\".format(source_account)\n",
    "print(delivery_role)"
   ]
  },
  {
   "cell_type": "code",
   "execution_count": null,
   "id": "23be8eb8",
   "metadata": {},
   "outputs": [],
   "source": [
    "bucket_policy=\"\"\"{\n",
    "\n",
    "    \"Version\": \"2012-10-17\",\n",
    "    \"Id\": \"PolicyID\",\n",
    "    \"Statement\": [\n",
    "        {\n",
    "            \"Sid\": \"StmtID\",\n",
    "            \"Effect\": \"Allow\",\n",
    "            \"Principal\": {\n",
    "                \"AWS\": \"arn:aws:iam::\"\"\" + source_account + \"\"\":role/cakhose2-dev-firehose-delivery-role\"\n",
    "            },\n",
    "            \"Action\": [\n",
    "                \"s3:AbortMultipartUpload\",\n",
    "                \"s3:GetBucketLocation\",\n",
    "                \"s3:GetObject\",\n",
    "                \"s3:ListBucket\",\n",
    "                \"s3:ListBucketMultipartUploads\",\n",
    "                \"s3:PutObject\",\n",
    "                \"s3:PutObjectAcl\"\n",
    "            ],\n",
    "            \"Resource\": [\n",
    "                \"arn:aws:s3:::sink-acount-bucket\",\n",
    "                \"arn:aws:s3:::sink-acount-bucket/*\"\n",
    "            ]\n",
    "        }\n",
    "    ]\n",
    "}\n",
    "\"\"\"\n",
    "print(bucket_policy)"
   ]
  },
  {
   "cell_type": "code",
   "execution_count": null,
   "id": "a183d63f",
   "metadata": {},
   "outputs": [],
   "source": [
    "pbp = sink_s3.put_bucket_policy(\n",
    "    Bucket='sink-acount-bucket',\n",
    "    Policy=bucket_policy\n",
    ")\n",
    "print(pbp)"
   ]
  },
  {
   "cell_type": "code",
   "execution_count": null,
   "id": "c0ad1871",
   "metadata": {},
   "outputs": [],
   "source": [
    "s3 = sink_session.resource('s3')\n",
    "bucket = s3.Bucket('sink-acount-bucket')\n",
    "bucket.objects.all().delete()"
   ]
  },
  {
   "cell_type": "code",
   "execution_count": null,
   "id": "9101e8e9",
   "metadata": {},
   "outputs": [],
   "source": [
    "# Delete bucket\n",
    "db = sink_s3.delete_bucket(\n",
    "    Bucket='sink-acount-bucket'\n",
    ")\n",
    "print(db)"
   ]
  },
  {
   "cell_type": "code",
   "execution_count": null,
   "id": "965517c1",
   "metadata": {},
   "outputs": [],
   "source": []
  }
 ],
 "metadata": {
  "kernelspec": {
   "display_name": "Python 3",
   "language": "python",
   "name": "python3"
  },
  "language_info": {
   "codemirror_mode": {
    "name": "ipython",
    "version": 3
   },
   "file_extension": ".py",
   "mimetype": "text/x-python",
   "name": "python",
   "nbconvert_exporter": "python",
   "pygments_lexer": "ipython3",
   "version": "3.9.1"
  }
 },
 "nbformat": 4,
 "nbformat_minor": 5
}
