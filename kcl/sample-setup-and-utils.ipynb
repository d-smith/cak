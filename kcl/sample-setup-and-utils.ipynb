{
 "cells": [
  {
   "cell_type": "markdown",
   "id": "abb5766f",
   "metadata": {},
   "source": [
    "# Two Account KCL Sample\n",
    "\n",
    "This workbook provides some utilities around the set up of running a KCL consumer that reads from a stream in one AWS account but does its processing, including capturing KCL metrics and checkpointing in DynamoDB, in another AWS account.\n",
    "\n",
    "In this workbook, we assume there are two accounts available - a producer account that contains the source stream, and a consumer account that will do the stream consumption. These are configured as AWS credential profiles named 'pa' and 'ca' respectively, and the AWS account numbers are available from the environment as PRODUCER_ACCOUNT_NO and CONSUMER_ACCOUNT_NO, respectively.\n",
    "\n",
    "## Set Up: Source Account Stream"
   ]
  },
  {
   "cell_type": "code",
   "execution_count": null,
   "id": "9889cfd0",
   "metadata": {},
   "outputs": [],
   "source": [
    "import boto3\n",
    "\n",
    "source_session = boto3.Session(profile_name='pa')\n",
    "\n",
    "source_kda_client = source_session.client('kinesisanalyticsv2')\n",
    "source_kinesis = source_session.client('kinesis')\n",
    "source_iam = source_session.client('iam')\n",
    "source_kda2 = source_session.client('kinesisanalyticsv2')"
   ]
  },
  {
   "cell_type": "markdown",
   "id": "169ff1dc",
   "metadata": {},
   "source": [
    "### Input Stream"
   ]
  },
  {
   "cell_type": "code",
   "execution_count": null,
   "id": "aa4d2a6c",
   "metadata": {},
   "outputs": [],
   "source": [
    "cis = source_kinesis.create_stream(\n",
    "    StreamName='ExampleInputStream',\n",
    "    ShardCount=1\n",
    ")\n",
    "\n",
    "print(cis)"
   ]
  },
  {
   "cell_type": "markdown",
   "id": "21cdde4f",
   "metadata": {},
   "source": [
    "## Set Up: Source Account IAM"
   ]
  },
  {
   "cell_type": "markdown",
   "id": "27574ff1",
   "metadata": {},
   "source": [
    "### Source Policy\n",
    "\n",
    "In the source account, we need a policy the sink account can consume to give access to the input stream."
   ]
  },
  {
   "cell_type": "code",
   "execution_count": null,
   "id": "22f5edf2",
   "metadata": {},
   "outputs": [],
   "source": [
    "import os\n",
    "source_account = os.environ['PRODUCER_ACCOUNT_NO']\n",
    "sink_account = os.environ['CONSUMER_ACCOUNT_NO']"
   ]
  },
  {
   "cell_type": "code",
   "execution_count": null,
   "id": "4879b35c",
   "metadata": {},
   "outputs": [],
   "source": [
    "input_stream_reader_trust_relationship=\"\"\"{\n",
    "    \"Version\": \"2012-10-17\",\n",
    "    \"Statement\": [\n",
    "      {\n",
    "        \"Effect\": \"Allow\",\n",
    "        \"Principal\": {\n",
    "          \"AWS\":  \"arn:aws:iam::\"\"\" + sink_account + \"\"\":user/ca\"\n",
    "        },\n",
    "        \"Action\": \"sts:AssumeRole\"\n",
    "      }\n",
    "    ]\n",
    "}\"\"\""
   ]
  },
  {
   "cell_type": "code",
   "execution_count": null,
   "id": "ceae4317",
   "metadata": {},
   "outputs": [],
   "source": [
    "input_stream_reader_policy=\"\"\"{\n",
    "    \"Version\": \"2012-10-17\",\n",
    "    \"Statement\": [\n",
    "        {\n",
    "            \"Sid\": \"ReadInputStream\",\n",
    "            \"Effect\": \"Allow\",\n",
    "            \"Action\": [\n",
    "                \"kinesis:DescribeStream\",\n",
    "                \"kinesis:GetRecords\",\n",
    "                \"kinesis:GetShardIterator\",\n",
    "                \"kinesis:ListShards\"\n",
    "            ],\n",
    "            \"Resource\": \n",
    "               \"arn:aws:kinesis:us-east-1:\"\"\" + source_account + \"\"\":stream/ExampleInputStream\"\n",
    "        }\n",
    "    ]\n",
    "}\"\"\"\n",
    "print(input_stream_reader_policy)"
   ]
  },
  {
   "cell_type": "code",
   "execution_count": null,
   "id": "0d9e660e",
   "metadata": {},
   "outputs": [],
   "source": [
    "cr = source_iam.create_role(\n",
    "    RoleName='KA-Source-Stream-Role',\n",
    "    Path='/service-role/',\n",
    "    AssumeRolePolicyDocument=input_stream_reader_trust_relationship\n",
    ")\n",
    "\n",
    "print(cr)"
   ]
  },
  {
   "cell_type": "code",
   "execution_count": null,
   "id": "3c286f83",
   "metadata": {},
   "outputs": [],
   "source": [
    "cp = source_iam.create_policy(\n",
    "    PolicyName='kda-stream-reader',\n",
    "    Path='/service-role/',\n",
    "    PolicyDocument=input_stream_reader_policy\n",
    ")\n",
    "\n",
    "print(cp)"
   ]
  },
  {
   "cell_type": "code",
   "execution_count": null,
   "id": "4f57ae99",
   "metadata": {},
   "outputs": [],
   "source": [
    "ap = source_iam.attach_role_policy(\n",
    "    RoleName='KA-Source-Stream-Role',\n",
    "    PolicyArn=\"arn:aws:iam::{}:policy/service-role/kda-stream-reader\".format(source_account)\n",
    ")"
   ]
  },
  {
   "cell_type": "markdown",
   "id": "4bfb2008",
   "metadata": {},
   "source": [
    "## Build and Start Consumer Application\n",
    "\n",
    "At the root of the source directory, build and package the app, then run it.\n",
    "\n",
    "```\n",
    "mvn package\n",
    "java -jar ./target/kclsample-0.0.1.jar\n",
    "```"
   ]
  },
  {
   "cell_type": "markdown",
   "id": "b660461a",
   "metadata": {},
   "source": [
    "## Generate Stream Input\n",
    "\n",
    "Use this section of the notebook to write data to the input stream. You should see the corressponding records logged in the output of teh java client."
   ]
  },
  {
   "cell_type": "code",
   "execution_count": null,
   "id": "4bde4a99",
   "metadata": {},
   "outputs": [],
   "source": [
    "import datetime\n",
    "import json\n",
    "import random\n",
    "import boto3\n",
    "\n",
    "def get_data():\n",
    "    return {\n",
    "        'EVENT_TIME': datetime.datetime.now().isoformat(),\n",
    "        'TICKER': random.choice(['AAPL', 'AMZN', 'MSFT', 'INTC', 'TBV']),\n",
    "        'PRICE': round(random.random() * 100, 2)}\n",
    "\n",
    "\n",
    "def generate(stream_name, kinesis_client):\n",
    "    while True:\n",
    "        data = get_data()\n",
    "        print(data)\n",
    "        kinesis_client.put_record(\n",
    "            StreamName=stream_name,\n",
    "            Data=json.dumps(data),\n",
    "            PartitionKey=\"partitionkey\")"
   ]
  },
  {
   "cell_type": "code",
   "execution_count": null,
   "id": "a4647af3",
   "metadata": {},
   "outputs": [],
   "source": [
    "# Run it\n",
    "generate(\"ExampleInputStream\", source_kinesis)"
   ]
  },
  {
   "cell_type": "markdown",
   "id": "c361e118",
   "metadata": {},
   "source": [
    "## Clean Up"
   ]
  },
  {
   "cell_type": "markdown",
   "id": "4b1861b0",
   "metadata": {},
   "source": [
    "#### IAM"
   ]
  },
  {
   "cell_type": "code",
   "execution_count": null,
   "id": "74ada903",
   "metadata": {},
   "outputs": [],
   "source": [
    "source_iam.detach_role_policy(\n",
    "    RoleName='KA-Source-Stream-Role',\n",
    "    PolicyArn=\"arn:aws:iam::{}:policy/service-role/kda-stream-reader\".format(source_account)\n",
    ")"
   ]
  },
  {
   "cell_type": "code",
   "execution_count": null,
   "id": "3f54c73d",
   "metadata": {},
   "outputs": [],
   "source": [
    "source_iam.delete_policy(\n",
    "    PolicyArn=\"arn:aws:iam::{}:policy/service-role/kda-stream-reader\".format(source_account)\n",
    ")"
   ]
  },
  {
   "cell_type": "code",
   "execution_count": null,
   "id": "9dd22ce8",
   "metadata": {},
   "outputs": [],
   "source": [
    "source_iam.delete_role(\n",
    "    RoleName='KA-Source-Stream-Role'\n",
    ")"
   ]
  },
  {
   "cell_type": "markdown",
   "id": "3fe3aadb",
   "metadata": {},
   "source": [
    "#### Streams"
   ]
  },
  {
   "cell_type": "code",
   "execution_count": null,
   "id": "cc971aeb",
   "metadata": {},
   "outputs": [],
   "source": [
    "source_kinesis.delete_stream(\n",
    "    StreamName='ExampleInputStream'\n",
    ")"
   ]
  },
  {
   "cell_type": "markdown",
   "id": "64b590f8",
   "metadata": {},
   "source": [
    "#### KCL DynamoDB Checkpoint Table\n",
    "\n",
    "This is created when the sample KCL consumer is run..."
   ]
  },
  {
   "cell_type": "code",
   "execution_count": null,
   "id": "b0060bd8",
   "metadata": {},
   "outputs": [],
   "source": [
    "import boto3\n",
    "\n",
    "sink_session = boto3.Session(profile_name='ca')\n",
    "sink_ddb_client = sink_session.client('dynamodb')"
   ]
  },
  {
   "cell_type": "code",
   "execution_count": null,
   "id": "213cd34f",
   "metadata": {},
   "outputs": [],
   "source": [
    "sink_ddb_client.list_tables()"
   ]
  },
  {
   "cell_type": "code",
   "execution_count": null,
   "id": "9b98109b",
   "metadata": {},
   "outputs": [],
   "source": [
    "sink_ddb_client.delete_table(\n",
    "    TableName='ExampleInputStream'\n",
    ")"
   ]
  },
  {
   "cell_type": "code",
   "execution_count": null,
   "id": "c28f4486",
   "metadata": {},
   "outputs": [],
   "source": [
    "sink_ddb_client.describe_table(\n",
    "    TableName='ExampleInputStream'\n",
    ")"
   ]
  },
  {
   "cell_type": "code",
   "execution_count": null,
   "id": "6101b0a1",
   "metadata": {},
   "outputs": [],
   "source": []
  }
 ],
 "metadata": {
  "kernelspec": {
   "display_name": "Python 3",
   "language": "python",
   "name": "python3"
  },
  "language_info": {
   "codemirror_mode": {
    "name": "ipython",
    "version": 3
   },
   "file_extension": ".py",
   "mimetype": "text/x-python",
   "name": "python",
   "nbconvert_exporter": "python",
   "pygments_lexer": "ipython3",
   "version": "3.9.1"
  }
 },
 "nbformat": 4,
 "nbformat_minor": 5
}
