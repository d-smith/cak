{
 "cells": [
  {
   "cell_type": "markdown",
   "id": "abb5766f",
   "metadata": {},
   "source": [
    "# Getting Started\n",
    "\n",
    "Attempted walkthrough of the [getting started](https://docs.aws.amazon.com/kinesisanalytics/latest/java/get-started-exercise.html) tutorial for KDA-J with the [two account modifications](https://docs.aws.amazon.com/kinesisanalytics/latest/java/examples-cross.html).\n",
    "\n",
    "## Source Account"
   ]
  },
  {
   "cell_type": "code",
   "execution_count": null,
   "id": "9889cfd0",
   "metadata": {},
   "outputs": [],
   "source": [
    "import boto3\n",
    "\n",
    "source_session = boto3.Session(profile_name='pa')\n",
    "\n",
    "source_kda_client = source_session.client('kinesisanalyticsv2')\n",
    "source_kinesis = source_session.client('kinesis')\n",
    "source_iam = source_session.client('iam')\n",
    "source_kda2 = source_session.client('kinesisanalyticsv2')"
   ]
  },
  {
   "cell_type": "markdown",
   "id": "169ff1dc",
   "metadata": {},
   "source": [
    "### Input Stream"
   ]
  },
  {
   "cell_type": "code",
   "execution_count": null,
   "id": "aa4d2a6c",
   "metadata": {},
   "outputs": [],
   "source": [
    "cis = source_kinesis.create_stream(\n",
    "    StreamName='ExampleInputStream',\n",
    "    ShardCount=1\n",
    ")\n",
    "\n",
    "print(cis)"
   ]
  },
  {
   "cell_type": "markdown",
   "id": "9e26e988",
   "metadata": {},
   "source": [
    "### Input Generator"
   ]
  },
  {
   "cell_type": "code",
   "execution_count": null,
   "id": "4bde4a99",
   "metadata": {},
   "outputs": [],
   "source": [
    "import datetime\n",
    "import json\n",
    "import random\n",
    "import boto3\n",
    "\n",
    "def get_data():\n",
    "    return {\n",
    "        'EVENT_TIME': datetime.datetime.now().isoformat(),\n",
    "        'TICKER': random.choice(['AAPL', 'AMZN', 'MSFT', 'INTC', 'TBV']),\n",
    "        'PRICE': round(random.random() * 100, 2)}\n",
    "\n",
    "\n",
    "def generate(stream_name, kinesis_client):\n",
    "    while True:\n",
    "        data = get_data()\n",
    "        print(data)\n",
    "        kinesis_client.put_record(\n",
    "            StreamName=stream_name,\n",
    "            Data=json.dumps(data),\n",
    "            PartitionKey=\"partitionkey\")"
   ]
  },
  {
   "cell_type": "code",
   "execution_count": null,
   "id": "a4647af3",
   "metadata": {},
   "outputs": [],
   "source": [
    "# Run it\n",
    "generate(\"ExampleInputStream\", source_kinesis)"
   ]
  },
  {
   "cell_type": "markdown",
   "id": "14f55573",
   "metadata": {},
   "source": [
    "### Source Policy\n",
    "\n",
    "In the source account, we need a policy the sink account can consume to give access to the input stream.\n",
    "\n",
    "*** Note *** Do this after the Sink role is created"
   ]
  },
  {
   "cell_type": "code",
   "execution_count": null,
   "id": "784dc14b",
   "metadata": {},
   "outputs": [],
   "source": [
    "import os\n",
    "source_account = os.environ['PRODUCER_ACCOUNT_NO']\n",
    "sink_account = os.environ['CONSUMER_ACCOUNT_NO']"
   ]
  },
  {
   "cell_type": "code",
   "execution_count": null,
   "id": "1b5e8a71",
   "metadata": {},
   "outputs": [],
   "source": [
    "input_stream_reader_trust_relationship=\"\"\"{\n",
    "    \"Version\": \"2012-10-17\",\n",
    "    \"Statement\": [\n",
    "      {\n",
    "        \"Effect\": \"Allow\",\n",
    "        \"Principal\": {\n",
    "          \"AWS\": \"arn:aws:iam::\"\"\" + sink_account + \"\"\":role/service-role/kda-sample-role\"\n",
    "        },\n",
    "        \"Action\": \"sts:AssumeRole\"\n",
    "      }\n",
    "    ]\n",
    "}\"\"\""
   ]
  },
  {
   "cell_type": "code",
   "execution_count": null,
   "id": "ceae4317",
   "metadata": {},
   "outputs": [],
   "source": [
    "input_stream_reader_policy=\"\"\"{\n",
    "    \"Version\": \"2012-10-17\",\n",
    "    \"Statement\": [\n",
    "        {\n",
    "            \"Sid\": \"ReadInputStream\",\n",
    "            \"Effect\": \"Allow\",\n",
    "            \"Action\": [\n",
    "                \"kinesis:DescribeStream\",\n",
    "                \"kinesis:GetRecords\",\n",
    "                \"kinesis:GetShardIterator\",\n",
    "                \"kinesis:ListShards\"\n",
    "            ],\n",
    "            \"Resource\": \n",
    "               \"arn:aws:kinesis:us-east-1:\"\"\" + source_account + \"\"\":stream/ExampleInputStream\"\n",
    "        }\n",
    "    ]\n",
    "}\"\"\"\n",
    "print(input_stream_reader_policy)"
   ]
  },
  {
   "cell_type": "code",
   "execution_count": null,
   "id": "0d9e660e",
   "metadata": {},
   "outputs": [],
   "source": [
    "cr = source_iam.create_role(\n",
    "    RoleName='KA-Source-Stream-Role',\n",
    "    Path='/service-role/',\n",
    "    AssumeRolePolicyDocument=input_stream_reader_trust_relationship\n",
    ")\n",
    "\n",
    "print(cr)"
   ]
  },
  {
   "cell_type": "code",
   "execution_count": null,
   "id": "82d08bbc",
   "metadata": {},
   "outputs": [],
   "source": [
    "cp = source_iam.create_policy(\n",
    "    PolicyName='kda-stream-reader',\n",
    "    Path='/service-role/',\n",
    "    PolicyDocument=input_stream_reader_policy\n",
    ")\n",
    "\n",
    "print(cp)"
   ]
  },
  {
   "cell_type": "code",
   "execution_count": null,
   "id": "07260b45",
   "metadata": {},
   "outputs": [],
   "source": [
    "ap = source_iam.attach_role_policy(\n",
    "    RoleName='KA-Source-Stream-Role',\n",
    "    PolicyArn=\"arn:aws:iam::{}:policy/service-role/kda-stream-reader\".format(source_account)\n",
    ")"
   ]
  },
  {
   "cell_type": "code",
   "execution_count": null,
   "id": "3e51b914",
   "metadata": {},
   "outputs": [],
   "source": []
  },
  {
   "cell_type": "markdown",
   "id": "e064750a",
   "metadata": {},
   "source": [
    "## Sink Account"
   ]
  },
  {
   "cell_type": "code",
   "execution_count": null,
   "id": "d9ab8993",
   "metadata": {},
   "outputs": [],
   "source": [
    "import boto3\n",
    "\n",
    "sink_session = boto3.Session(profile_name='ca')\n",
    "\n",
    "sink_kda_client = sink_session.client('kinesisanalyticsv2')\n",
    "sink_kinesis = sink_session.client('kinesis')\n",
    "sink_iam = sink_session.client('iam')\n",
    "sink_kda2 = sink_session.client('kinesisanalyticsv2')"
   ]
  },
  {
   "cell_type": "code",
   "execution_count": null,
   "id": "228bd76b",
   "metadata": {},
   "outputs": [],
   "source": [
    "cos = sink_kinesis.create_stream(\n",
    "    StreamName='ExampleOutputStream',\n",
    "    ShardCount=1\n",
    ")\n",
    "\n",
    "print(cos)"
   ]
  },
  {
   "cell_type": "markdown",
   "id": "820a7193",
   "metadata": {},
   "source": [
    "### Application Code File\n",
    "\n",
    "Compile the getting started code, create a bucket, and upload it to the bucket.\n",
    "\n",
    "e.g.\n",
    "\n",
    "```\n",
    "mvn package\n",
    "aws s3api create-bucket --bucket dskdaj-getting-started-2\n",
    "aws s3 cp target/kda-java-apps-2-accounts-1.0.jar  s3://dskdaj-getting-started-2/kda-java-apps-2-accounts-1.0.jar\n",
    "```"
   ]
  },
  {
   "cell_type": "code",
   "execution_count": null,
   "id": "8d16b09b",
   "metadata": {},
   "outputs": [],
   "source": [
    "code_bucket='dskdaj-getting-started-2'\n",
    "jar_key='kda-java-apps-2-accounts-1.0.jar'"
   ]
  },
  {
   "cell_type": "markdown",
   "id": "17d0d9cf",
   "metadata": {},
   "source": [
    "### IAM Role and Policy\n",
    "\n"
   ]
  },
  {
   "cell_type": "markdown",
   "id": "663c69ae",
   "metadata": {},
   "source": [
    "In the sink account, we will need to allow the role associated with the KDA application to assume a specific role in the stream source account."
   ]
  },
  {
   "cell_type": "code",
   "execution_count": null,
   "id": "1bec4fec",
   "metadata": {},
   "outputs": [],
   "source": [
    "import os\n",
    "source_account = os.environ['PRODUCER_ACCOUNT_NO']"
   ]
  },
  {
   "cell_type": "code",
   "execution_count": null,
   "id": "e6f55197",
   "metadata": {},
   "outputs": [],
   "source": [
    "source_role_arn = \"arn:aws:iam::{}:role/KA-Source-Stream-Role\".format(source_account)\n",
    "print(source_role_arn)"
   ]
  },
  {
   "cell_type": "code",
   "execution_count": null,
   "id": "378deedb",
   "metadata": {},
   "outputs": [],
   "source": [
    "assume_role_policy_document=\"\"\"{\n",
    "    \"Version\": \"2012-10-17\",\n",
    "    \"Statement\": [\n",
    "        {\n",
    "            \"Effect\": \"Allow\",\n",
    "            \"Principal\": {\n",
    "                \"Service\": \"kinesisanalytics.amazonaws.com\"\n",
    "            },\n",
    "            \"Action\": \"sts:AssumeRole\"\n",
    "        }\n",
    "    ]\n",
    "}\n",
    "\"\"\""
   ]
  },
  {
   "cell_type": "code",
   "execution_count": null,
   "id": "aeb7fa12",
   "metadata": {},
   "outputs": [],
   "source": [
    "cr = sink_iam.create_role(\n",
    "    RoleName='kda-sample-role',\n",
    "    Path='/service-role/',\n",
    "    AssumeRolePolicyDocument=assume_role_policy_document\n",
    ")\n",
    "\n",
    "print(cr)"
   ]
  },
  {
   "cell_type": "code",
   "execution_count": null,
   "id": "b28ae89e",
   "metadata": {},
   "outputs": [],
   "source": [
    "import os\n",
    "sink_account_no = os.environ['CONSUMER_ACCOUNT_NO']\n",
    "print(sink_account_no)"
   ]
  },
  {
   "cell_type": "code",
   "execution_count": null,
   "id": "6454dfab",
   "metadata": {},
   "outputs": [],
   "source": [
    "policy_document=\"\"\"{\n",
    "            \"Version\": \"2012-10-17\",\n",
    "            \"Statement\": [\n",
    "                {\n",
    "                    \"Sid\": \"AssumeRoleInSourceAccount\",\n",
    "                    \"Effect\": \"Allow\",\n",
    "                    \"Action\": \"sts:AssumeRole\",\n",
    "                    \"Resource\": \"arn:aws:iam::\"\"\" + source_account + \"\"\":role/service-role/KA-Source-Stream-Role\"\n",
    "                },\n",
    "                {\n",
    "                    \"Sid\": \"ReadCode\",\n",
    "                    \"Effect\": \"Allow\",\n",
    "                    \"Action\": [\n",
    "                        \"s3:GetObject\",\n",
    "                        \"s3:GetObjectVersion\"\n",
    "                    ],\n",
    "                    \"Resource\": [\n",
    "                        \"arn:aws:s3:::\"\"\" + code_bucket + \"\"\"/*\"\n",
    "                    ]\n",
    "                },\n",
    "                {\n",
    "                    \"Sid\": \"ListCloudwatchLogGroups\",\n",
    "                    \"Effect\": \"Allow\",\n",
    "                    \"Action\": [\n",
    "                        \"logs:DescribeLogGroups\"\n",
    "                    ],\n",
    "                    \"Resource\": [\n",
    "                        \"arn:aws:logs:us-east-1:\"\"\" + sink_account_no + \"\"\":log-group:*\"\n",
    "                    ]\n",
    "                },\n",
    "                {\n",
    "                    \"Sid\": \"ListCloudwatchLogStreams\",\n",
    "                    \"Effect\": \"Allow\",\n",
    "                    \"Action\": [\n",
    "                        \"logs:DescribeLogStreams\"\n",
    "                    ],\n",
    "                    \"Resource\": [\n",
    "                        \"arn:aws:logs:us-east-1:\"\"\" + sink_account_no + \"\"\":log-group:/aws/kinesis-analytics/sample:log-stream:*\"\n",
    "                    ]\n",
    "                },\n",
    "                {\n",
    "                    \"Sid\": \"PutCloudwatchLogs\",\n",
    "                    \"Effect\": \"Allow\",\n",
    "                    \"Action\": [\n",
    "                        \"logs:PutLogEvents\"\n",
    "                    ],\n",
    "                    \"Resource\": [\n",
    "                        \"arn:aws:logs:us-east-1:\"\"\" + sink_account_no + \"\"\":log-group:/aws/kinesis-analytics/sample:log-stream:kinesis-analytics-log-stream\"\n",
    "                    ]\n",
    "                },\n",
    "                {\n",
    "                    \"Sid\": \"WriteOutputStream\",\n",
    "                    \"Effect\": \"Allow\",\n",
    "                    \"Action\": \"kinesis:*\",\n",
    "                    \"Resource\": \"arn:aws:kinesis:us-east-1:\"\"\" + sink_account_no + \"\"\":stream/ExampleOutputStream\"\n",
    "                }\n",
    "            ]\n",
    "}\"\"\""
   ]
  },
  {
   "cell_type": "code",
   "execution_count": null,
   "id": "09f0b604",
   "metadata": {},
   "outputs": [],
   "source": [
    "print(policy_document)"
   ]
  },
  {
   "cell_type": "code",
   "execution_count": null,
   "id": "444eabd6",
   "metadata": {},
   "outputs": [],
   "source": [
    "cp = sink_iam.create_policy(\n",
    "    PolicyName='kda-sample-app',\n",
    "    Path='/service-role/',\n",
    "    PolicyDocument=policy_document\n",
    ")\n",
    "\n",
    "print(cp)"
   ]
  },
  {
   "cell_type": "code",
   "execution_count": null,
   "id": "6e537f67",
   "metadata": {},
   "outputs": [],
   "source": [
    "ap = sink_iam.attach_role_policy(\n",
    "    RoleName='kda-sample-role',\n",
    "    PolicyArn=\"arn:aws:iam::{}:policy/service-role/kda-sample-app\".format(sink_account_no)\n",
    ")"
   ]
  },
  {
   "cell_type": "markdown",
   "id": "6464aaf6",
   "metadata": {},
   "source": [
    "### Application Definition"
   ]
  },
  {
   "cell_type": "markdown",
   "id": "66d3e7ba",
   "metadata": {},
   "source": [
    "Details from creating the application in the console then dumping it via describe_application\n"
   ]
  },
  {
   "cell_type": "code",
   "execution_count": null,
   "id": "2ff2d9c4",
   "metadata": {},
   "outputs": [],
   "source": [
    "print(sink_account_no)"
   ]
  },
  {
   "cell_type": "code",
   "execution_count": null,
   "id": "61c59938",
   "metadata": {},
   "outputs": [],
   "source": [
    "kca = sink_kda2.create_application(\n",
    "    ApplicationName='sample',\n",
    "    ApplicationDescription='Sample getting started application',\n",
    "    RuntimeEnvironment='FLINK-1_11',\n",
    "    ServiceExecutionRole='arn:aws:iam::{}:role/service-role/kda-sample-role'.format(sink_account_no),\n",
    "    ApplicationConfiguration={\n",
    "        'ApplicationCodeConfiguration': {\n",
    "            'CodeContent': {\n",
    "                'S3ContentLocation': {\n",
    "                    'BucketARN': 'arn:aws:s3:::' + code_bucket,\n",
    "                    'FileKey': jar_key,\n",
    "                }\n",
    "            },\n",
    "            'CodeContentType': 'ZIPFILE'\n",
    "        },\n",
    "        'FlinkApplicationConfiguration': {\n",
    "            'CheckpointConfiguration': {\n",
    "                'ConfigurationType': 'DEFAULT'\n",
    "            },\n",
    "            'MonitoringConfiguration': {\n",
    "                'ConfigurationType': 'CUSTOM',\n",
    "                'MetricsLevel': 'APPLICATION',\n",
    "                'LogLevel': 'DEBUG'\n",
    "            },\n",
    "            'ParallelismConfiguration': {\n",
    "                'ConfigurationType': 'CUSTOM',\n",
    "                'Parallelism': 1,\n",
    "                'ParallelismPerKPU': 1,\n",
    "                'AutoScalingEnabled': True\n",
    "            }\n",
    "        },\n",
    "        'EnvironmentProperties': {\n",
    "            'PropertyGroups': [\n",
    "                {\n",
    "                    \"PropertyGroupId\":\"ProducerConfigProperties\",\n",
    "                      \"PropertyMap\":{\n",
    "                         \"AggregationEnabled\":\"false\",\n",
    "                         \"aws.region\":\"us-east-1\",\n",
    "                         \"flink.inputstream.initpos\":\"LATEST\"\n",
    "                      }\n",
    "                }\n",
    "            ]\n",
    "        },\n",
    "        'ApplicationSnapshotConfiguration': {\n",
    "            'SnapshotsEnabled': False\n",
    "        }\n",
    "        \n",
    "    },\n",
    "    CloudWatchLoggingOptions=[\n",
    "        {\n",
    "            \"LogStreamARN\":\"arn:aws:logs:us-east-1:{}:log-group:/aws/kinesis-analytics/sample:log-stream:kinesis-analytics-log-stream\".format(sink_account_no)\n",
    "        }\n",
    "    ]\n",
    "    \n",
    ")\n",
    "print(kca)"
   ]
  },
  {
   "cell_type": "code",
   "execution_count": null,
   "id": "ef16d1ae",
   "metadata": {},
   "outputs": [],
   "source": [
    "sao = sink_kda2.start_application(\n",
    "    ApplicationName='sample',\n",
    "    RunConfiguration={\n",
    "        'FlinkRunConfiguration': {\n",
    "            'AllowNonRestoredState': False\n",
    "        },\n",
    "        'ApplicationRestoreConfiguration': {\n",
    "            'ApplicationRestoreType': 'SKIP_RESTORE_FROM_SNAPSHOT'\n",
    "        }\n",
    "    } \n",
    ")\n",
    "print(sao)"
   ]
  },
  {
   "cell_type": "code",
   "execution_count": null,
   "id": "22fc5bb7",
   "metadata": {},
   "outputs": [],
   "source": [
    "# List applications and see their states...\n",
    "sink_kda2.list_applications()"
   ]
  },
  {
   "cell_type": "markdown",
   "id": "1343d9c8",
   "metadata": {},
   "source": [
    "### Read From Output"
   ]
  },
  {
   "cell_type": "code",
   "execution_count": null,
   "id": "784195b9",
   "metadata": {},
   "outputs": [],
   "source": [
    "shards = sink_kinesis.list_shards(\n",
    "    StreamName='ExampleOutputStream'\n",
    ")\n",
    "print(shards)"
   ]
  },
  {
   "cell_type": "code",
   "execution_count": null,
   "id": "0bddfa4b",
   "metadata": {},
   "outputs": [],
   "source": [
    "itor = sink_kinesis.get_shard_iterator(\n",
    "    StreamName='ExampleOutputStream',\n",
    "    ShardIteratorType='TRIM_HORIZON',\n",
    "    ShardId=shards['Shards'][0]['ShardId']\n",
    ")\n",
    "print(itor)"
   ]
  },
  {
   "cell_type": "code",
   "execution_count": null,
   "id": "09f6b789",
   "metadata": {},
   "outputs": [],
   "source": [
    "sink_kinesis.get_records(\n",
    "    ShardIterator=itor['ShardIterator']\n",
    ")"
   ]
  },
  {
   "cell_type": "markdown",
   "id": "c361e118",
   "metadata": {},
   "source": [
    "## Clean Up"
   ]
  },
  {
   "cell_type": "markdown",
   "id": "e6442dc0",
   "metadata": {},
   "source": [
    "#### Application"
   ]
  },
  {
   "cell_type": "code",
   "execution_count": null,
   "id": "974c128d",
   "metadata": {},
   "outputs": [],
   "source": [
    "sink_kda2.stop_application(\n",
    "    ApplicationName='sample',\n",
    "    Force=True\n",
    ")"
   ]
  },
  {
   "cell_type": "code",
   "execution_count": null,
   "id": "cefe686c",
   "metadata": {},
   "outputs": [],
   "source": [
    "da = sink_kda2.describe_application(\n",
    "    ApplicationName='sample'\n",
    ")\n",
    "create_timestamp = da['ApplicationDetail']['CreateTimestamp']"
   ]
  },
  {
   "cell_type": "code",
   "execution_count": null,
   "id": "fe92d461",
   "metadata": {},
   "outputs": [],
   "source": [
    "from bson import json_util\n",
    "import json\n",
    "\n",
    "json.dumps(da, default=json_util.default)"
   ]
  },
  {
   "cell_type": "code",
   "execution_count": null,
   "id": "f008232e",
   "metadata": {},
   "outputs": [],
   "source": [
    "summaries = sink_kda2.list_applications()['ApplicationSummaries']\n",
    "print(summaries)"
   ]
  },
  {
   "cell_type": "code",
   "execution_count": null,
   "id": "f255bb91",
   "metadata": {},
   "outputs": [],
   "source": [
    "sink_kda2.delete_application(\n",
    "    ApplicationName='sample',\n",
    "    CreateTimestamp=create_timestamp\n",
    ")"
   ]
  },
  {
   "cell_type": "markdown",
   "id": "4b1861b0",
   "metadata": {},
   "source": [
    "#### IAM"
   ]
  },
  {
   "cell_type": "code",
   "execution_count": null,
   "id": "b5deb4cb",
   "metadata": {},
   "outputs": [],
   "source": [
    "policy_arn=\"arn:aws:iam::{}:policy/service-role/kda-sample-app\".format(sink_account)\n",
    "print(policy_arn)"
   ]
  },
  {
   "cell_type": "code",
   "execution_count": null,
   "id": "95451034",
   "metadata": {},
   "outputs": [],
   "source": [
    "sink_iam.detach_role_policy(\n",
    "    RoleName='kda-sample-role',\n",
    "    PolicyArn=policy_arn\n",
    ")"
   ]
  },
  {
   "cell_type": "code",
   "execution_count": null,
   "id": "2ea06116",
   "metadata": {},
   "outputs": [],
   "source": [
    "sink_iam.delete_policy(\n",
    "    PolicyArn=policy_arn\n",
    ")"
   ]
  },
  {
   "cell_type": "code",
   "execution_count": null,
   "id": "f47af3be",
   "metadata": {},
   "outputs": [],
   "source": [
    "sink_iam.delete_role(\n",
    "    RoleName='kda-sample-role'\n",
    ")"
   ]
  },
  {
   "cell_type": "code",
   "execution_count": null,
   "id": "19806640",
   "metadata": {},
   "outputs": [],
   "source": [
    "source_iam.detach_role_policy(\n",
    "    RoleName='KA-Source-Stream-Role',\n",
    "    PolicyArn=\"arn:aws:iam::{}:policy/service-role/kda-stream-reader\".format(source_account)\n",
    ")"
   ]
  },
  {
   "cell_type": "code",
   "execution_count": null,
   "id": "ddd14241",
   "metadata": {},
   "outputs": [],
   "source": [
    "source_iam.delete_policy(\n",
    "    PolicyArn=\"arn:aws:iam::{}:policy/service-role/kda-stream-reader\".format(source_account)\n",
    ")"
   ]
  },
  {
   "cell_type": "code",
   "execution_count": null,
   "id": "80846469",
   "metadata": {},
   "outputs": [],
   "source": [
    "source_iam.delete_role(\n",
    "    RoleName='KA-Source-Stream-Role'\n",
    ")"
   ]
  },
  {
   "cell_type": "markdown",
   "id": "3fe3aadb",
   "metadata": {},
   "source": [
    "#### Streams"
   ]
  },
  {
   "cell_type": "code",
   "execution_count": null,
   "id": "cc971aeb",
   "metadata": {},
   "outputs": [],
   "source": [
    "source_kinesis.delete_stream(\n",
    "    StreamName='ExampleInputStream'\n",
    ")"
   ]
  },
  {
   "cell_type": "code",
   "execution_count": null,
   "id": "42575b30",
   "metadata": {},
   "outputs": [],
   "source": [
    "sink_kinesis.delete_stream(\n",
    "    StreamName='ExampleOutputStream'\n",
    ")"
   ]
  },
  {
   "cell_type": "code",
   "execution_count": null,
   "id": "f03c708a",
   "metadata": {},
   "outputs": [],
   "source": []
  }
 ],
 "metadata": {
  "kernelspec": {
   "display_name": "Python 3",
   "language": "python",
   "name": "python3"
  },
  "language_info": {
   "codemirror_mode": {
    "name": "ipython",
    "version": 3
   },
   "file_extension": ".py",
   "mimetype": "text/x-python",
   "name": "python",
   "nbconvert_exporter": "python",
   "pygments_lexer": "ipython3",
   "version": "3.9.1"
  }
 },
 "nbformat": 4,
 "nbformat_minor": 5
}
