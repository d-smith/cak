{
 "cells": [
  {
   "cell_type": "markdown",
   "id": "abb5766f",
   "metadata": {},
   "source": [
    "## Getting Started\n",
    "\n",
    "Attempted walkthrough of the [getting started](https://docs.aws.amazon.com/kinesisanalytics/latest/java/get-started-exercise.html) tutorial for KDA-J"
   ]
  },
  {
   "cell_type": "code",
   "execution_count": null,
   "id": "9889cfd0",
   "metadata": {},
   "outputs": [],
   "source": [
    "import boto3\n",
    "\n",
    "kda_client = boto3.client('kinesisanalyticsv2')\n",
    "kinesis = boto3.client('kinesis')"
   ]
  },
  {
   "cell_type": "markdown",
   "id": "169ff1dc",
   "metadata": {},
   "source": [
    "### Input and Output Streams"
   ]
  },
  {
   "cell_type": "code",
   "execution_count": null,
   "id": "aa4d2a6c",
   "metadata": {},
   "outputs": [],
   "source": [
    "cis = kinesis.create_stream(\n",
    "    StreamName='ExampleInputStream',\n",
    "    ShardCount=1\n",
    ")\n",
    "\n",
    "print(cis)"
   ]
  },
  {
   "cell_type": "code",
   "execution_count": null,
   "id": "1a424ce7",
   "metadata": {},
   "outputs": [],
   "source": [
    "cos = kinesis.create_stream(\n",
    "    StreamName='ExampleOutputStream',\n",
    "    ShardCount=1\n",
    ")\n",
    "\n",
    "print(cos)"
   ]
  },
  {
   "cell_type": "markdown",
   "id": "9e26e988",
   "metadata": {},
   "source": [
    "### Input Generator"
   ]
  },
  {
   "cell_type": "code",
   "execution_count": null,
   "id": "4bde4a99",
   "metadata": {},
   "outputs": [],
   "source": [
    "import datetime\n",
    "import json\n",
    "import random\n",
    "import boto3\n",
    "\n",
    "def get_data():\n",
    "    return {\n",
    "        'EVENT_TIME': datetime.datetime.now().isoformat(),\n",
    "        'TICKER': random.choice(['AAPL', 'AMZN', 'MSFT', 'INTC', 'TBV']),\n",
    "        'PRICE': round(random.random() * 100, 2)}\n",
    "\n",
    "\n",
    "def generate(stream_name, kinesis_client):\n",
    "    while True:\n",
    "        data = get_data()\n",
    "        print(data)\n",
    "        kinesis_client.put_record(\n",
    "            StreamName=stream_name,\n",
    "            Data=json.dumps(data),\n",
    "            PartitionKey=\"partitionkey\")"
   ]
  },
  {
   "cell_type": "code",
   "execution_count": null,
   "id": "a4647af3",
   "metadata": {},
   "outputs": [],
   "source": [
    "# Run it\n",
    "generate(\"ExampleInputStream\", kinesis)"
   ]
  },
  {
   "cell_type": "markdown",
   "id": "820a7193",
   "metadata": {},
   "source": [
    "### Application Code File\n",
    "\n",
    "Compile the getting started code, create a bucket, and upload it to the bucket.\n",
    "\n",
    "e.g.\n",
    "\n",
    "```\n",
    "mvn package\n",
    "aws s3api create-bucket --bucket dskdaj-getting-started\n",
    "aws s3 cp target/aws-kinesis-analytics-java-apps-1.0.jar s3://dskdaj-getting-started/getting-started.jar\n",
    "```"
   ]
  },
  {
   "cell_type": "code",
   "execution_count": null,
   "id": "8d16b09b",
   "metadata": {},
   "outputs": [],
   "source": [
    "code_bucket='dskdaj-getting-started'\n",
    "jar_key='getting-started.jar'"
   ]
  },
  {
   "cell_type": "markdown",
   "id": "17d0d9cf",
   "metadata": {},
   "source": [
    "### IAM Role and Policy\n",
    "\n",
    "Here's the generated policy as the starting point for an app named scratch.\n",
    "\n",
    "The kinesis-analytics-scratch-us-east-1 role `via aws iam get-role --role-name kinesis-analytics-scratch-us-east-1`\n",
    "\n",
    "```\n",
    "{\n",
    "    \"Role\": {\n",
    "        \"Path\": \"/service-role/\",\n",
    "        \"RoleName\": \"kinesis-analytics-scratch-us-east-1\",\n",
    "        \"RoleId\": \"xxx\",\n",
    "        \"Arn\": \"arn:aws:iam::xxx:role/service-role/kinesis-analytics-scratch-us-east-1\",\n",
    "        \"CreateDate\": \"2021-07-03T16:11:50+00:00\",\n",
    "        \"AssumeRolePolicyDocument\": {\n",
    "            \"Version\": \"2012-10-17\",\n",
    "            \"Statement\": [\n",
    "                {\n",
    "                    \"Effect\": \"Allow\",\n",
    "                    \"Principal\": {\n",
    "                        \"Service\": \"kinesisanalytics.amazonaws.com\"\n",
    "                    },\n",
    "                    \"Action\": \"sts:AssumeRole\"\n",
    "                }\n",
    "            ]\n",
    "        },\n",
    "        \"MaxSessionDuration\": 3600,\n",
    "        \"RoleLastUsed\": {}\n",
    "    }\n",
    "}\n",
    "```\n",
    "Policies:\n",
    "\n",
    "```\n",
    "aws iam list-attached-role-policies  --role-name kinesis-analytics-scratch-us-east-1\n",
    "{\n",
    "    \"AttachedPolicies\": [\n",
    "        {\n",
    "            \"PolicyName\": \"kinesis-analytics-service-scratch-us-east-1\",\n",
    "            \"PolicyArn\": \"arn:aws:iam::xxx:policy/service-role/kinesis-analytics-service-scratch-us-east-1\"\n",
    "        }\n",
    "    ]\n",
    "}\n",
    "```\n",
    "\n",
    "```\n",
    "aws iam get-policy --policy-arn arn:aws:iam::xxx:policy/service-role/kinesis-analytics-service-scratch-us-east-1\n",
    "{\n",
    "    \"Policy\": {\n",
    "        \"PolicyName\": \"kinesis-analytics-service-scratch-us-east-1\",\n",
    "        \"PolicyId\": \"xxx\",\n",
    "        \"Arn\": \"arn:aws:iam::xxx:policy/service-role/kinesis-analytics-service-scratch-us-east-1\",\n",
    "        \"Path\": \"/service-role/\",\n",
    "        \"DefaultVersionId\": \"v1\",\n",
    "        \"AttachmentCount\": 1,\n",
    "        \"PermissionsBoundaryUsageCount\": 0,\n",
    "        \"IsAttachable\": true,\n",
    "        \"CreateDate\": \"2021-07-03T16:11:50+00:00\",\n",
    "        \"UpdateDate\": \"2021-07-03T16:11:50+00:00\",\n",
    "        \"Tags\": []\n",
    "    }\n",
    "}\n",
    "```\n",
    "\n",
    "\n",
    "\n"
   ]
  },
  {
   "cell_type": "markdown",
   "id": "c361e118",
   "metadata": {},
   "source": [
    "## Clean Up"
   ]
  },
  {
   "cell_type": "markdown",
   "id": "3fe3aadb",
   "metadata": {},
   "source": [
    "#### Streams"
   ]
  },
  {
   "cell_type": "code",
   "execution_count": null,
   "id": "cc971aeb",
   "metadata": {},
   "outputs": [],
   "source": [
    "kinesis.delete_stream(\n",
    "    StreamName='ExampleInputStream'\n",
    ")"
   ]
  },
  {
   "cell_type": "code",
   "execution_count": null,
   "id": "42575b30",
   "metadata": {},
   "outputs": [],
   "source": [
    "kinesis.delete_stream(\n",
    "    StreamName='ExampleOutputStream'\n",
    ")"
   ]
  },
  {
   "cell_type": "code",
   "execution_count": null,
   "id": "a5ff19e6",
   "metadata": {},
   "outputs": [],
   "source": [
    "kinesis.list_streams()"
   ]
  },
  {
   "cell_type": "code",
   "execution_count": null,
   "id": "f03c708a",
   "metadata": {},
   "outputs": [],
   "source": []
  }
 ],
 "metadata": {
  "kernelspec": {
   "display_name": "Python 3",
   "language": "python",
   "name": "python3"
  },
  "language_info": {
   "codemirror_mode": {
    "name": "ipython",
    "version": 3
   },
   "file_extension": ".py",
   "mimetype": "text/x-python",
   "name": "python",
   "nbconvert_exporter": "python",
   "pygments_lexer": "ipython3",
   "version": "3.9.1"
  }
 },
 "nbformat": 4,
 "nbformat_minor": 5
}
