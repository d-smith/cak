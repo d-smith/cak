{
 "cells": [
  {
   "cell_type": "markdown",
   "id": "abb5766f",
   "metadata": {},
   "source": [
    "## Getting Started\n",
    "\n",
    "Attempted walkthrough of the [getting started](https://docs.aws.amazon.com/kinesisanalytics/latest/java/get-started-exercise.html) tutorial for KDA-J"
   ]
  },
  {
   "cell_type": "code",
   "execution_count": null,
   "id": "9889cfd0",
   "metadata": {},
   "outputs": [],
   "source": [
    "import boto3\n",
    "\n",
    "kda_client = boto3.client('kinesisanalyticsv2')\n",
    "kinesis = boto3.client('kinesis')\n",
    "iam = boto3.client('iam')\n",
    "kda2 = boto3.client('kinesisanalyticsv2')"
   ]
  },
  {
   "cell_type": "markdown",
   "id": "169ff1dc",
   "metadata": {},
   "source": [
    "### Input and Output Streams"
   ]
  },
  {
   "cell_type": "code",
   "execution_count": null,
   "id": "aa4d2a6c",
   "metadata": {},
   "outputs": [],
   "source": [
    "cis = kinesis.create_stream(\n",
    "    StreamName='ExampleInputStream',\n",
    "    ShardCount=1\n",
    ")\n",
    "\n",
    "print(cis)"
   ]
  },
  {
   "cell_type": "code",
   "execution_count": null,
   "id": "1a424ce7",
   "metadata": {},
   "outputs": [],
   "source": [
    "cos = kinesis.create_stream(\n",
    "    StreamName='ExampleOutputStream',\n",
    "    ShardCount=1\n",
    ")\n",
    "\n",
    "print(cos)"
   ]
  },
  {
   "cell_type": "markdown",
   "id": "9e26e988",
   "metadata": {},
   "source": [
    "### Input Generator"
   ]
  },
  {
   "cell_type": "code",
   "execution_count": null,
   "id": "4bde4a99",
   "metadata": {},
   "outputs": [],
   "source": [
    "import datetime\n",
    "import json\n",
    "import random\n",
    "import boto3\n",
    "\n",
    "def get_data():\n",
    "    return {\n",
    "        'EVENT_TIME': datetime.datetime.now().isoformat(),\n",
    "        'TICKER': random.choice(['AAPL', 'AMZN', 'MSFT', 'INTC', 'TBV']),\n",
    "        'PRICE': round(random.random() * 100, 2)}\n",
    "\n",
    "\n",
    "def generate(stream_name, kinesis_client):\n",
    "    while True:\n",
    "        data = get_data()\n",
    "        print(data)\n",
    "        kinesis_client.put_record(\n",
    "            StreamName=stream_name,\n",
    "            Data=json.dumps(data),\n",
    "            PartitionKey=\"partitionkey\")"
   ]
  },
  {
   "cell_type": "code",
   "execution_count": null,
   "id": "a4647af3",
   "metadata": {},
   "outputs": [],
   "source": [
    "# Run it\n",
    "generate(\"ExampleInputStream\", kinesis)"
   ]
  },
  {
   "cell_type": "markdown",
   "id": "820a7193",
   "metadata": {},
   "source": [
    "### Application Code File\n",
    "\n",
    "Compile the getting started code, create a bucket, and upload it to the bucket.\n",
    "\n",
    "e.g.\n",
    "\n",
    "```\n",
    "mvn package\n",
    "aws s3api create-bucket --bucket dskdaj-getting-started\n",
    "aws s3 cp target/aws-kinesis-analytics-java-apps-1.0.jar s3://dskdaj-getting-started/getting-started.jar\n",
    "```"
   ]
  },
  {
   "cell_type": "code",
   "execution_count": null,
   "id": "8d16b09b",
   "metadata": {},
   "outputs": [],
   "source": [
    "code_bucket='dskdaj-getting-started'\n",
    "jar_key='getting-started.jar'"
   ]
  },
  {
   "cell_type": "markdown",
   "id": "17d0d9cf",
   "metadata": {},
   "source": [
    "### IAM Role and Policy\n",
    "\n",
    "Here's the generated policy as the starting point for an app named scratch.\n",
    "\n",
    "The kinesis-analytics-scratch-us-east-1 role `via aws iam get-role --role-name kinesis-analytics-scratch-us-east-1`\n",
    "\n",
    "```\n",
    "{\n",
    "    \"Role\": {\n",
    "        \"Path\": \"/service-role/\",\n",
    "        \"RoleName\": \"kinesis-analytics-scratch-us-east-1\",\n",
    "        \"RoleId\": \"xxx\",\n",
    "        \"Arn\": \"arn:aws:iam::xxx:role/service-role/kinesis-analytics-scratch-us-east-1\",\n",
    "        \"CreateDate\": \"2021-07-03T16:11:50+00:00\",\n",
    "        \"AssumeRolePolicyDocument\": {\n",
    "            \"Version\": \"2012-10-17\",\n",
    "            \"Statement\": [\n",
    "                {\n",
    "                    \"Effect\": \"Allow\",\n",
    "                    \"Principal\": {\n",
    "                        \"Service\": \"kinesisanalytics.amazonaws.com\"\n",
    "                    },\n",
    "                    \"Action\": \"sts:AssumeRole\"\n",
    "                }\n",
    "            ]\n",
    "        },\n",
    "        \"MaxSessionDuration\": 3600,\n",
    "        \"RoleLastUsed\": {}\n",
    "    }\n",
    "}\n",
    "```\n",
    "Policies:\n",
    "\n",
    "```\n",
    "aws iam list-attached-role-policies  --role-name kinesis-analytics-scratch-us-east-1\n",
    "{\n",
    "    \"AttachedPolicies\": [\n",
    "        {\n",
    "            \"PolicyName\": \"kinesis-analytics-service-scratch-us-east-1\",\n",
    "            \"PolicyArn\": \"arn:aws:iam::xxx:policy/service-role/kinesis-analytics-service-scratch-us-east-1\"\n",
    "        }\n",
    "    ]\n",
    "}\n",
    "```\n",
    "\n",
    "```\n",
    "aws iam get-policy --policy-arn arn:aws:iam::xxx:policy/service-role/kinesis-analytics-service-scratch-us-east-1\n",
    "{\n",
    "    \"Policy\": {\n",
    "        \"PolicyName\": \"kinesis-analytics-service-scratch-us-east-1\",\n",
    "        \"PolicyId\": \"xxx\",\n",
    "        \"Arn\": \"arn:aws:iam::xxx:policy/service-role/kinesis-analytics-service-scratch-us-east-1\",\n",
    "        \"Path\": \"/service-role/\",\n",
    "        \"DefaultVersionId\": \"v1\",\n",
    "        \"AttachmentCount\": 1,\n",
    "        \"PermissionsBoundaryUsageCount\": 0,\n",
    "        \"IsAttachable\": true,\n",
    "        \"CreateDate\": \"2021-07-03T16:11:50+00:00\",\n",
    "        \"UpdateDate\": \"2021-07-03T16:11:50+00:00\",\n",
    "        \"Tags\": []\n",
    "    }\n",
    "}\n",
    "```\n",
    "\n",
    "aws iam get-policy-version --policy-arn arn:aws:iam::xxx:policy/service-role/kinesis-analytics-service-sample-us-east-1 --version-id v1\n",
    "\n",
    "```\n",
    "{\n",
    "    \"PolicyVersion\": {\n",
    "        \"Document\": {\n",
    "            \"Version\": \"2012-10-17\",\n",
    "            \"Statement\": [\n",
    "                {\n",
    "                    \"Sid\": \"ReadCode\",\n",
    "                    \"Effect\": \"Allow\",\n",
    "                    \"Action\": [\n",
    "                        \"s3:GetObject\",\n",
    "                        \"s3:GetObjectVersion\"\n",
    "                    ],\n",
    "                    \"Resource\": [\n",
    "                        \"arn:aws:s3:::kinesis-analytics-placeholder-s3-bucket/kinesis-analytics-placeholder-s3-object\"\n",
    "                    ]\n",
    "                },\n",
    "                {\n",
    "                    \"Sid\": \"ListCloudwatchLogGroups\",\n",
    "                    \"Effect\": \"Allow\",\n",
    "                    \"Action\": [\n",
    "                        \"logs:DescribeLogGroups\"\n",
    "                    ],\n",
    "                    \"Resource\": [\n",
    "                        \"arn:aws:logs:us-east-1:xxx:log-group:*\"\n",
    "                    ]\n",
    "                },\n",
    "                {\n",
    "                    \"Sid\": \"ListCloudwatchLogStreams\",\n",
    "                    \"Effect\": \"Allow\",\n",
    "                    \"Action\": [\n",
    "                        \"logs:DescribeLogStreams\"\n",
    "                    ],\n",
    "                    \"Resource\": [\n",
    "                        \"arn:aws:logs:us-east-1:xxx:log-group:/aws/kinesis-analytics/sample:log-stream:*\"\n",
    "                    ]\n",
    "                },\n",
    "                {\n",
    "                    \"Sid\": \"PutCloudwatchLogs\",\n",
    "                    \"Effect\": \"Allow\",\n",
    "                    \"Action\": [\n",
    "                        \"logs:PutLogEvents\"\n",
    "                    ],\n",
    "                    \"Resource\": [\n",
    "                        \"arn:aws:logs:us-east-1:xxx:log-group:/aws/kinesis-analytics/sample:log-stream:kinesis-analytics-log-stream\"\n",
    "                    ]\n",
    "                }\n",
    "            ]\n",
    "        },\n",
    "        \"VersionId\": \"v1\",\n",
    "        \"IsDefaultVersion\": true,\n",
    "        \"CreateDate\": \"2021-07-04T15:21:25+00:00\"\n",
    "    }\n",
    "}\n",
    "```\n"
   ]
  },
  {
   "cell_type": "code",
   "execution_count": null,
   "id": "378deedb",
   "metadata": {},
   "outputs": [],
   "source": [
    "assume_role_policy_document=\"\"\"{\n",
    "    \"Version\": \"2012-10-17\",\n",
    "    \"Statement\": [\n",
    "        {\n",
    "            \"Effect\": \"Allow\",\n",
    "            \"Principal\": {\n",
    "                \"Service\": \"kinesisanalytics.amazonaws.com\"\n",
    "            },\n",
    "            \"Action\": \"sts:AssumeRole\"\n",
    "        }\n",
    "    ]\n",
    "}\n",
    "\"\"\""
   ]
  },
  {
   "cell_type": "code",
   "execution_count": null,
   "id": "aeb7fa12",
   "metadata": {},
   "outputs": [],
   "source": [
    "cr = iam.create_role(\n",
    "    RoleName='kda-sample-role',\n",
    "    Path='/service-role/',\n",
    "    AssumeRolePolicyDocument=assume_role_policy_document\n",
    ")\n",
    "\n",
    "print(cr)"
   ]
  },
  {
   "cell_type": "code",
   "execution_count": null,
   "id": "b28ae89e",
   "metadata": {},
   "outputs": [],
   "source": [
    "import os\n",
    "account_no = os.environ['PRODUCER_ACCOUNT_NO']"
   ]
  },
  {
   "cell_type": "code",
   "execution_count": null,
   "id": "6454dfab",
   "metadata": {},
   "outputs": [],
   "source": [
    "policy_document=\"\"\"{\n",
    "            \"Version\": \"2012-10-17\",\n",
    "            \"Statement\": [\n",
    "                {\n",
    "                    \"Sid\": \"ReadCode\",\n",
    "                    \"Effect\": \"Allow\",\n",
    "                    \"Action\": [\n",
    "                        \"s3:GetObject\",\n",
    "                        \"s3:GetObjectVersion\"\n",
    "                    ],\n",
    "                    \"Resource\": [\n",
    "                        \"arn:aws:s3:::dskdaj-getting-started/*\"\n",
    "                    ]\n",
    "                },\n",
    "                {\n",
    "                    \"Sid\": \"ListCloudwatchLogGroups\",\n",
    "                    \"Effect\": \"Allow\",\n",
    "                    \"Action\": [\n",
    "                        \"logs:DescribeLogGroups\"\n",
    "                    ],\n",
    "                    \"Resource\": [\n",
    "                        \"arn:aws:logs:us-east-1:\"\"\" + account_no + \"\"\":log-group:*\"\n",
    "                    ]\n",
    "                },\n",
    "                {\n",
    "                    \"Sid\": \"ListCloudwatchLogStreams\",\n",
    "                    \"Effect\": \"Allow\",\n",
    "                    \"Action\": [\n",
    "                        \"logs:DescribeLogStreams\"\n",
    "                    ],\n",
    "                    \"Resource\": [\n",
    "                        \"arn:aws:logs:us-east-1:\"\"\" + account_no + \"\"\":log-group:/aws/kinesis-analytics/sample:log-stream:*\"\n",
    "                    ]\n",
    "                },\n",
    "                {\n",
    "                    \"Sid\": \"PutCloudwatchLogs\",\n",
    "                    \"Effect\": \"Allow\",\n",
    "                    \"Action\": [\n",
    "                        \"logs:PutLogEvents\"\n",
    "                    ],\n",
    "                    \"Resource\": [\n",
    "                        \"arn:aws:logs:us-east-1:\"\"\" + account_no + \"\"\":log-group:/aws/kinesis-analytics/sample:log-stream:kinesis-analytics-log-stream\"\n",
    "                    ]\n",
    "                },\n",
    "                {\n",
    "                \n",
    "                    \"Sid\": \"ReadInputStream\",\n",
    "                    \"Effect\": \"Allow\",\n",
    "                    \"Action\": [\n",
    "                        \"kinesis:*\"\n",
    "                    ],\n",
    "                    \"Resource\": [\n",
    "                        \"arn:aws:kinesis:us-east-1:\"\"\" + account_no + \"\"\":stream/ExampleInputStream\"\n",
    "                    ]\n",
    "                },\n",
    "                {\n",
    "                    \"Sid\": \"WriteOutputStream\",\n",
    "                    \"Effect\": \"Allow\",\n",
    "                    \"Action\": \"kinesis:*\",\n",
    "                    \"Resource\": \"arn:aws:kinesis:us-east-1:\"\"\" + account_no + \"\"\":stream/ExampleOutputStream\"\n",
    "                }\n",
    "            ]\n",
    "}\"\"\""
   ]
  },
  {
   "cell_type": "code",
   "execution_count": null,
   "id": "09f0b604",
   "metadata": {},
   "outputs": [],
   "source": [
    "print(policy_document)"
   ]
  },
  {
   "cell_type": "code",
   "execution_count": null,
   "id": "444eabd6",
   "metadata": {},
   "outputs": [],
   "source": [
    "cp = iam.create_policy(\n",
    "    PolicyName='kda-sample-app',\n",
    "    Path='/service-role/',\n",
    "    PolicyDocument=policy_document\n",
    ")\n",
    "\n",
    "print(cp)"
   ]
  },
  {
   "cell_type": "code",
   "execution_count": null,
   "id": "6e537f67",
   "metadata": {},
   "outputs": [],
   "source": [
    "ap = iam.attach_role_policy(\n",
    "    RoleName='kda-sample-role',\n",
    "    PolicyArn=\"arn:aws:iam::{}:policy/service-role/kda-sample-app\".format(account_no)\n",
    ")"
   ]
  },
  {
   "cell_type": "markdown",
   "id": "6464aaf6",
   "metadata": {},
   "source": [
    "### Application Definition"
   ]
  },
  {
   "cell_type": "markdown",
   "id": "66d3e7ba",
   "metadata": {},
   "source": [
    "Details from creating the application in the console then dumping it via describe_application\n",
    "\n",
    "```\n",
    "{\n",
    "   \"ApplicationDetail\":{\n",
    "      \"ApplicationARN\":\"arn:aws:kinesisanalytics:us-east-1:xxx:application/sample\",\n",
    "      \"ApplicationName\":\"sample\",\n",
    "      \"RuntimeEnvironment\":\"FLINK-1_11\",\n",
    "      \"ServiceExecutionRole\":\"arn:aws:iam::xxx:role/service-role/kda-sample-role\",\n",
    "      \"ApplicationStatus\":\"RUNNING\",\n",
    "      \"ApplicationVersionId\":2,\n",
    "      \"CreateTimestamp\":{\n",
    "         \"$date\":1625415087000\n",
    "      },\n",
    "      \"LastUpdateTimestamp\":{\n",
    "         \"$date\":1625415425000\n",
    "      },\n",
    "      \"ApplicationConfigurationDescription\":{\n",
    "         \"ApplicationCodeConfigurationDescription\":{\n",
    "            \"CodeContentType\":\"ZIPFILE\",\n",
    "            \"CodeContentDescription\":{\n",
    "               \"CodeMD5\":\"f17ccaa0d429ecd9856959fd305a3fb2\",\n",
    "               \"CodeSize\":44129741,\n",
    "               \"S3ApplicationCodeLocationDescription\":{\n",
    "                  \"BucketARN\":\"arn:aws:s3:::dskdaj-getting-started\",\n",
    "                  \"FileKey\":\"getting-started.jar\"\n",
    "               }\n",
    "            }\n",
    "         },\n",
    "         \"RunConfigurationDescription\":{\n",
    "            \"ApplicationRestoreConfigurationDescription\":{\n",
    "               \"ApplicationRestoreType\":\"SKIP_RESTORE_FROM_SNAPSHOT\"\n",
    "            },\n",
    "            \"FlinkRunConfigurationDescription\":{\n",
    "               \"AllowNonRestoredState\":false\n",
    "            }\n",
    "         },\n",
    "         \"FlinkApplicationConfigurationDescription\":{\n",
    "            \"CheckpointConfigurationDescription\":{\n",
    "               \"ConfigurationType\":\"DEFAULT\",\n",
    "               \"CheckpointingEnabled\":true,\n",
    "               \"CheckpointInterval\":60000,\n",
    "               \"MinPauseBetweenCheckpoints\":5000\n",
    "            },\n",
    "            \"MonitoringConfigurationDescription\":{\n",
    "               \"ConfigurationType\":\"CUSTOM\",\n",
    "               \"MetricsLevel\":\"APPLICATION\",\n",
    "               \"LogLevel\":\"INFO\"\n",
    "            },\n",
    "            \"ParallelismConfigurationDescription\":{\n",
    "               \"ConfigurationType\":\"CUSTOM\",\n",
    "               \"Parallelism\":1,\n",
    "               \"ParallelismPerKPU\":1,\n",
    "               \"CurrentParallelism\":1,\n",
    "               \"AutoScalingEnabled\":true\n",
    "            }\n",
    "         },\n",
    "         \"EnvironmentPropertyDescriptions\":{\n",
    "            \"PropertyGroupDescriptions\":[\n",
    "               {\n",
    "                  \"PropertyGroupId\":\"ProducerConfigProperties\",\n",
    "                  \"PropertyMap\":{\n",
    "                     \"AggregationEnabled\":\"false\",\n",
    "                     \"aws.region\":\"us-east-1\",\n",
    "                     \"flink.inputstream.initpos\":\"LATEST\"\n",
    "                  }\n",
    "               }\n",
    "            ]\n",
    "         },\n",
    "         \"ApplicationSnapshotConfigurationDescription\":{\n",
    "            \"SnapshotsEnabled\":false\n",
    "         }\n",
    "      },\n",
    "      \"CloudWatchLoggingOptionDescriptions\":[\n",
    "         {\n",
    "            \"CloudWatchLoggingOptionId\":\"1.1\",\n",
    "            \"LogStreamARN\":\"arn:aws:logs:us-east-1:xxx:log-group:/aws/kinesis-analytics/sample:log-stream:kinesis-analytics-log-stream\"\n",
    "         }\n",
    "      ]\n",
    "   },\n",
    "   \"ResponseMetadata\":{\n",
    "      \"RequestId\":\"7348d1f9-09da-44cd-b99a-bea89708de73\",\n",
    "      \"HTTPStatusCode\":200,\n",
    "      \"HTTPHeaders\":{\n",
    "         \"x-amzn-requestid\":\"7348d1f9-09da-44cd-b99a-bea89708de73\",\n",
    "         \"content-type\":\"application/x-amz-json-1.1\",\n",
    "         \"content-length\":\"2153\",\n",
    "         \"date\":\"Sun, 04 Jul 2021 16:40:54 GMT\"\n",
    "      },\n",
    "      \"RetryAttempts\":0\n",
    "   }\n",
    "}\n",
    "\n",
    "```"
   ]
  },
  {
   "cell_type": "code",
   "execution_count": null,
   "id": "61c59938",
   "metadata": {},
   "outputs": [],
   "source": [
    "kca = kda2.create_application(\n",
    "    ApplicationName='sample',\n",
    "    ApplicationDescription='Sample getting started application',\n",
    "    RuntimeEnvironment='FLINK-1_11',\n",
    "    ServiceExecutionRole='arn:aws:iam::{}:role/service-role/kda-sample-role'.format(account_no),\n",
    "    ApplicationConfiguration={\n",
    "        'ApplicationCodeConfiguration': {\n",
    "            'CodeContent': {\n",
    "                'S3ContentLocation': {\n",
    "                    'BucketARN': 'arn:aws:s3:::' + code_bucket,\n",
    "                    'FileKey': jar_key,\n",
    "                }\n",
    "            },\n",
    "            'CodeContentType': 'ZIPFILE'\n",
    "        },\n",
    "        'FlinkApplicationConfiguration': {\n",
    "            'CheckpointConfiguration': {\n",
    "                'ConfigurationType': 'DEFAULT'\n",
    "            },\n",
    "            'MonitoringConfiguration': {\n",
    "                'ConfigurationType': 'CUSTOM',\n",
    "                'MetricsLevel': 'APPLICATION',\n",
    "                'LogLevel': 'DEBUG'\n",
    "            },\n",
    "            'ParallelismConfiguration': {\n",
    "                'ConfigurationType': 'CUSTOM',\n",
    "                'Parallelism': 1,\n",
    "                'ParallelismPerKPU': 1,\n",
    "                'AutoScalingEnabled': True\n",
    "            }\n",
    "        },\n",
    "        'EnvironmentProperties': {\n",
    "            'PropertyGroups': [\n",
    "                {\n",
    "                    \"PropertyGroupId\":\"ProducerConfigProperties\",\n",
    "                      \"PropertyMap\":{\n",
    "                         \"AggregationEnabled\":\"false\",\n",
    "                         \"aws.region\":\"us-east-1\",\n",
    "                         \"flink.inputstream.initpos\":\"LATEST\"\n",
    "                      }\n",
    "                }\n",
    "            ]\n",
    "        },\n",
    "        'ApplicationSnapshotConfiguration': {\n",
    "            'SnapshotsEnabled': False\n",
    "        }\n",
    "        \n",
    "    },\n",
    "    CloudWatchLoggingOptions=[\n",
    "        {\n",
    "            \"LogStreamARN\":\"arn:aws:logs:us-east-1:{}:log-group:/aws/kinesis-analytics/sample:log-stream:kinesis-analytics-log-stream\".format(account_no)\n",
    "        }\n",
    "    ]\n",
    "    \n",
    ")\n",
    "print(kca)"
   ]
  },
  {
   "cell_type": "code",
   "execution_count": null,
   "id": "ef16d1ae",
   "metadata": {},
   "outputs": [],
   "source": [
    "sao = kda2.start_application(\n",
    "    ApplicationName='sample',\n",
    "    RunConfiguration={\n",
    "        'FlinkRunConfiguration': {\n",
    "            'AllowNonRestoredState': False\n",
    "        },\n",
    "        'ApplicationRestoreConfiguration': {\n",
    "            'ApplicationRestoreType': 'SKIP_RESTORE_FROM_SNAPSHOT'\n",
    "        }\n",
    "    } \n",
    ")\n",
    "print(sao)"
   ]
  },
  {
   "cell_type": "code",
   "execution_count": null,
   "id": "22fc5bb7",
   "metadata": {},
   "outputs": [],
   "source": [
    "# List applications and see their states...\n",
    "kda2.list_applications()"
   ]
  },
  {
   "cell_type": "markdown",
   "id": "1343d9c8",
   "metadata": {},
   "source": [
    "### Read From Output"
   ]
  },
  {
   "cell_type": "code",
   "execution_count": null,
   "id": "784195b9",
   "metadata": {},
   "outputs": [],
   "source": [
    "shards = kinesis.list_shards(\n",
    "    StreamName='ExampleOutputStream'\n",
    ")\n",
    "print(shards)"
   ]
  },
  {
   "cell_type": "code",
   "execution_count": null,
   "id": "0bddfa4b",
   "metadata": {},
   "outputs": [],
   "source": [
    "itor = kinesis.get_shard_iterator(\n",
    "    StreamName='ExampleOutputStream',\n",
    "    ShardIteratorType='TRIM_HORIZON',\n",
    "    ShardId=shards['Shards'][0]['ShardId']\n",
    ")\n",
    "print(itor)"
   ]
  },
  {
   "cell_type": "code",
   "execution_count": null,
   "id": "09f6b789",
   "metadata": {},
   "outputs": [],
   "source": [
    "kinesis.get_records(\n",
    "    ShardIterator=itor['ShardIterator']\n",
    ")"
   ]
  },
  {
   "cell_type": "markdown",
   "id": "c361e118",
   "metadata": {},
   "source": [
    "## Clean Up"
   ]
  },
  {
   "cell_type": "markdown",
   "id": "e6442dc0",
   "metadata": {},
   "source": [
    "#### Application"
   ]
  },
  {
   "cell_type": "code",
   "execution_count": null,
   "id": "974c128d",
   "metadata": {},
   "outputs": [],
   "source": [
    "kda2.stop_application(\n",
    "    ApplicationName='sample',\n",
    "    Force=True\n",
    ")"
   ]
  },
  {
   "cell_type": "code",
   "execution_count": null,
   "id": "cefe686c",
   "metadata": {},
   "outputs": [],
   "source": [
    "da = kda2.describe_application(\n",
    "    ApplicationName='sample'\n",
    ")\n",
    "create_timestamp = da['ApplicationDetail']['CreateTimestamp']"
   ]
  },
  {
   "cell_type": "code",
   "execution_count": null,
   "id": "fe92d461",
   "metadata": {},
   "outputs": [],
   "source": [
    "from bson import json_util\n",
    "import json\n",
    "\n",
    "json.dumps(da, default=json_util.default)"
   ]
  },
  {
   "cell_type": "code",
   "execution_count": null,
   "id": "f008232e",
   "metadata": {},
   "outputs": [],
   "source": [
    "summaries = kda2.list_applications()['ApplicationSummaries']\n",
    "print(summaries)"
   ]
  },
  {
   "cell_type": "code",
   "execution_count": null,
   "id": "f255bb91",
   "metadata": {},
   "outputs": [],
   "source": [
    "kda2.delete_application(\n",
    "    ApplicationName='sample',\n",
    "    CreateTimestamp=create_timestamp\n",
    ")"
   ]
  },
  {
   "cell_type": "markdown",
   "id": "4b1861b0",
   "metadata": {},
   "source": [
    "#### IAM"
   ]
  },
  {
   "cell_type": "code",
   "execution_count": null,
   "id": "b5deb4cb",
   "metadata": {},
   "outputs": [],
   "source": [
    "policy_arn=\"arn:aws:iam::{}:policy/service-role/kda-sample-app\".format(account_no)\n",
    "print(policy_arn)"
   ]
  },
  {
   "cell_type": "code",
   "execution_count": null,
   "id": "95451034",
   "metadata": {},
   "outputs": [],
   "source": [
    "iam.detach_role_policy(\n",
    "    RoleName='kda-sample-role',\n",
    "    PolicyArn=policy_arn\n",
    ")"
   ]
  },
  {
   "cell_type": "code",
   "execution_count": null,
   "id": "2ea06116",
   "metadata": {},
   "outputs": [],
   "source": [
    "iam.delete_policy(\n",
    "    PolicyArn=policy_arn\n",
    ")"
   ]
  },
  {
   "cell_type": "code",
   "execution_count": null,
   "id": "f47af3be",
   "metadata": {},
   "outputs": [],
   "source": [
    "iam.delete_role(\n",
    "    RoleName='kda-sample-role'\n",
    ")"
   ]
  },
  {
   "cell_type": "markdown",
   "id": "3fe3aadb",
   "metadata": {},
   "source": [
    "#### Streams"
   ]
  },
  {
   "cell_type": "code",
   "execution_count": null,
   "id": "cc971aeb",
   "metadata": {},
   "outputs": [],
   "source": [
    "kinesis.delete_stream(\n",
    "    StreamName='ExampleInputStream'\n",
    ")"
   ]
  },
  {
   "cell_type": "code",
   "execution_count": null,
   "id": "42575b30",
   "metadata": {},
   "outputs": [],
   "source": [
    "kinesis.delete_stream(\n",
    "    StreamName='ExampleOutputStream'\n",
    ")"
   ]
  },
  {
   "cell_type": "code",
   "execution_count": null,
   "id": "a5ff19e6",
   "metadata": {},
   "outputs": [],
   "source": [
    "kinesis.list_streams()"
   ]
  },
  {
   "cell_type": "code",
   "execution_count": null,
   "id": "f03c708a",
   "metadata": {},
   "outputs": [],
   "source": []
  }
 ],
 "metadata": {
  "kernelspec": {
   "display_name": "Python 3",
   "language": "python",
   "name": "python3"
  },
  "language_info": {
   "codemirror_mode": {
    "name": "ipython",
    "version": 3
   },
   "file_extension": ".py",
   "mimetype": "text/x-python",
   "name": "python",
   "nbconvert_exporter": "python",
   "pygments_lexer": "ipython3",
   "version": "3.9.1"
  }
 },
 "nbformat": 4,
 "nbformat_minor": 5
}
